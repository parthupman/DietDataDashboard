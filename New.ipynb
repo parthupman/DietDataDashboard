{
 "cells": [
  {
   "cell_type": "code",
   "execution_count": null,
   "id": "5a534e27",
   "metadata": {},
   "outputs": [
    {
     "name": "stdout",
     "output_type": "stream",
     "text": [
      "Loading dataset...\n",
      "Successfully loaded Oxford dataset\n",
      "\n",
      "=== DATA VALIDATION ===\n",
      "Columns in dataset: ['mc_run_id', 'grouping', 'mean_ghgs', 'mean_land', 'mean_watscar', 'mean_eut', 'mean_ghgs_ch4', 'mean_ghgs_n2o', 'mean_bio', 'mean_watuse', 'mean_acid', 'sd_ghgs', 'sd_land', 'sd_watscar', 'sd_eut', 'sd_ghgs_ch4', 'sd_ghgs_n2o', 'sd_bio', 'sd_watuse', 'sd_acid', 'n_participants', 'sex', 'diet_group', 'age_group']\n",
      "\n",
      "Unique diet groups: ['fish' 'meat100' 'meat50' 'meat' 'vegan' 'veggie']\n",
      "Unique sex values: ['female' 'male']\n",
      "Unique age groups: ['20-29' '30-39' '40-49' '50-59' '60-69' '70-79']\n",
      "Categorizing diets...\n",
      "Calculating impact scores...\n",
      "\n",
      "=== GENERATING COMPREHENSIVE VISUALIZATION ===\n",
      "Creating enhanced Sankey diagram with improved color scheme...\n",
      "Creating comprehensive Sankey diagram with enhanced color scheme...\n",
      "Total nodes: 27\n",
      "Processing Diet -> Age links...\n",
      "Processing Age -> Gender links...\n",
      "Processing Gender -> Individual Metrics links...\n",
      "Processing Individual Metrics -> Impact Categories links...\n",
      "Enhanced Sankey diagram created in 0.05 seconds\n"
     ]
    },
    {
     "data": {
      "application/vnd.plotly.v1+json": {
       "config": {
        "plotlyServerURL": "https://plot.ly"
       },
       "data": [
        {
         "link": {
          "color": [
           "rgba(231, 76, 60, 0.65)",
           "rgba(231, 76, 60, 0.65)",
           "rgba(231, 76, 60, 0.65)",
           "rgba(231, 76, 60, 0.65)",
           "rgba(231, 76, 60, 0.65)",
           "rgba(231, 76, 60, 0.65)",
           "rgba(241, 196, 15, 0.65)",
           "rgba(241, 196, 15, 0.65)",
           "rgba(241, 196, 15, 0.65)",
           "rgba(241, 196, 15, 0.65)",
           "rgba(241, 196, 15, 0.65)",
           "rgba(241, 196, 15, 0.65)",
           "rgba(230, 126, 34, 0.65)",
           "rgba(230, 126, 34, 0.65)",
           "rgba(230, 126, 34, 0.65)",
           "rgba(230, 126, 34, 0.65)",
           "rgba(230, 126, 34, 0.65)",
           "rgba(230, 126, 34, 0.65)",
           "rgba(52, 152, 219, 0.65)",
           "rgba(52, 152, 219, 0.65)",
           "rgba(52, 152, 219, 0.65)",
           "rgba(52, 152, 219, 0.65)",
           "rgba(52, 152, 219, 0.65)",
           "rgba(52, 152, 219, 0.65)",
           "rgba(39, 174, 96, 0.65)",
           "rgba(39, 174, 96, 0.65)",
           "rgba(39, 174, 96, 0.65)",
           "rgba(39, 174, 96, 0.65)",
           "rgba(39, 174, 96, 0.65)",
           "rgba(39, 174, 96, 0.65)",
           "rgba(142, 202, 100, 0.65)",
           "rgba(142, 202, 100, 0.65)",
           "rgba(142, 202, 100, 0.65)",
           "rgba(142, 202, 100, 0.65)",
           "rgba(142, 202, 100, 0.65)",
           "rgba(142, 202, 100, 0.65)",
           "rgba(108, 92, 231, 0.65)",
           "rgba(108, 92, 231, 0.65)",
           "rgba(162, 155, 254, 0.65)",
           "rgba(162, 155, 254, 0.65)",
           "rgba(116, 185, 255, 0.65)",
           "rgba(116, 185, 255, 0.65)",
           "rgba(30, 144, 255, 0.65)",
           "rgba(30, 144, 255, 0.65)",
           "rgba(25, 118, 210, 0.65)",
           "rgba(25, 118, 210, 0.65)",
           "rgba(21, 101, 192, 0.65)",
           "rgba(21, 101, 192, 0.65)",
           "rgba(240, 98, 146, 0.65)",
           "rgba(240, 98, 146, 0.65)",
           "rgba(240, 98, 146, 0.65)",
           "rgba(240, 98, 146, 0.65)",
           "rgba(240, 98, 146, 0.65)",
           "rgba(240, 98, 146, 0.65)",
           "rgba(240, 98, 146, 0.65)",
           "rgba(240, 98, 146, 0.65)",
           "rgba(240, 98, 146, 0.65)",
           "rgba(91, 192, 222, 0.65)",
           "rgba(91, 192, 222, 0.65)",
           "rgba(91, 192, 222, 0.65)",
           "rgba(91, 192, 222, 0.65)",
           "rgba(91, 192, 222, 0.65)",
           "rgba(91, 192, 222, 0.65)",
           "rgba(91, 192, 222, 0.65)",
           "rgba(91, 192, 222, 0.65)",
           "rgba(91, 192, 222, 0.65)",
           "rgba(229, 57, 53, 0.65)",
           "rgba(244, 81, 30, 0.65)",
           "rgba(230, 74, 25, 0.75)",
           "rgba(56, 142, 60, 0.65)",
           "rgba(104, 159, 56, 0.65)",
           "rgba(3, 169, 244, 0.65)",
           "rgba(21, 101, 192, 0.65)",
           "rgba(156, 39, 176, 0.65)",
           "rgba(123, 31, 162, 0.65)"
          ],
          "hovertemplate": "<b>%{label}</b><extra></extra>",
          "label": [
           "High Meat (>100g/day) → 20-29: 525000 participants",
           "High Meat (>100g/day) → 30-39: 1038000 participants",
           "High Meat (>100g/day) → 40-49: 2551000 participants",
           "High Meat (>100g/day) → 50-59: 2344000 participants",
           "High Meat (>100g/day) → 60-69: 1386000 participants",
           "High Meat (>100g/day) → 70-79: 442000 participants",
           "Low Meat (<50g/day) → 20-29: 895000 participants",
           "Low Meat (<50g/day) → 30-39: 1853000 participants",
           "Low Meat (<50g/day) → 40-49: 2541000 participants",
           "Low Meat (<50g/day) → 50-59: 2108000 participants",
           "Low Meat (<50g/day) → 60-69: 1411000 participants",
           "Low Meat (<50g/day) → 70-79: 524000 participants",
           "Medium Meat (50-99g/day) → 20-29: 820000 participants",
           "Medium Meat (50-99g/day) → 30-39: 1654000 participants",
           "Medium Meat (50-99g/day) → 40-49: 3373000 participants",
           "Medium Meat (50-99g/day) → 50-59: 3353000 participants",
           "Medium Meat (50-99g/day) → 60-69: 2090000 participants",
           "Medium Meat (50-99g/day) → 70-79: 681000 participants",
           "Pescatarian → 20-29: 1492000 participants",
           "Pescatarian → 30-39: 2436000 participants",
           "Pescatarian → 40-49: 2121000 participants",
           "Pescatarian → 50-59: 1160000 participants",
           "Pescatarian → 60-69: 651000 participants",
           "Pescatarian → 70-79: 263000 participants",
           "Vegan → 20-29: 685000 participants",
           "Vegan → 30-39: 627000 participants",
           "Vegan → 40-49: 384000 participants",
           "Vegan → 50-59: 168000 participants",
           "Vegan → 60-69: 133000 participants",
           "Vegan → 70-79: 44000 participants",
           "Vegetarian → 20-29: 4398000 participants",
           "Vegetarian → 30-39: 4855000 participants",
           "Vegetarian → 40-49: 3657000 participants",
           "Vegetarian → 50-59: 1629000 participants",
           "Vegetarian → 60-69: 765000 participants",
           "Vegetarian → 70-79: 447000 participants",
           "20-29 → Female: 7394000 participants",
           "20-29 → Male: 1421000 participants",
           "30-39 → Female: 9645000 participants",
           "30-39 → Male: 2818000 participants",
           "40-49 → Female: 11342000 participants",
           "40-49 → Male: 3285000 participants",
           "50-59 → Female: 8388000 participants",
           "50-59 → Male: 2374000 participants",
           "60-69 → Female: 4455000 participants",
           "60-69 → Male: 1981000 participants",
           "70-79 → Female: 1614000 participants",
           "70-79 → Male: 787000 participants",
           "Female → Greenhouse Gas Emissions: 6.11 avg. impact",
           "Female → Methane (CH4) Emissions: 1.14 avg. impact",
           "Female → Nitrous Oxide (N2O) Emissions: 0.43 avg. impact",
           "Female → Land Use: 10.61 avg. impact",
           "Female → Biodiversity Loss: 273.53 avg. impact",
           "Female → Water Scarcity: 18099.33 avg. impact",
           "Female → Water Usage: 734.09 avg. impact",
           "Female → Eutrophication: 24.15 avg. impact",
           "Female → Acidification: 27.23 avg. impact",
           "Male → Greenhouse Gas Emissions: 7.26 avg. impact",
           "Male → Methane (CH4) Emissions: 1.34 avg. impact",
           "Male → Nitrous Oxide (N2O) Emissions: 0.52 avg. impact",
           "Male → Land Use: 12.57 avg. impact",
           "Male → Biodiversity Loss: 321.80 avg. impact",
           "Male → Water Scarcity: 21089.31 avg. impact",
           "Male → Water Usage: 852.15 avg. impact",
           "Male → Eutrophication: 29.08 avg. impact",
           "Male → Acidification: 32.14 avg. impact",
           "Greenhouse Gas Emissions → Climate Impact: contributes to Climate Impact",
           "Methane (CH4) Emissions → Climate Impact: contributes to Climate Impact",
           "Nitrous Oxide (N2O) Emissions → Climate Impact: contributes to Climate Impact",
           "Land Use → Land & Biodiversity Impact: contributes to Land & Biodiversity Impact",
           "Biodiversity Loss → Land & Biodiversity Impact: contributes to Land & Biodiversity Impact",
           "Water Scarcity → Water Resources Impact: contributes to Water Resources Impact",
           "Water Usage → Water Resources Impact: contributes to Water Resources Impact",
           "Eutrophication → Chemical Pollution Impact: contributes to Chemical Pollution Impact",
           "Acidification → Chemical Pollution Impact: contributes to Chemical Pollution Impact"
          ],
          "source": [
           0,
           0,
           0,
           0,
           0,
           0,
           1,
           1,
           1,
           1,
           1,
           1,
           2,
           2,
           2,
           2,
           2,
           2,
           3,
           3,
           3,
           3,
           3,
           3,
           4,
           4,
           4,
           4,
           4,
           4,
           5,
           5,
           5,
           5,
           5,
           5,
           6,
           6,
           7,
           7,
           8,
           8,
           9,
           9,
           10,
           10,
           11,
           11,
           12,
           12,
           12,
           12,
           12,
           12,
           12,
           12,
           12,
           13,
           13,
           13,
           13,
           13,
           13,
           13,
           13,
           13,
           14,
           15,
           16,
           17,
           18,
           19,
           20,
           21,
           22
          ],
          "target": [
           6,
           7,
           8,
           9,
           10,
           11,
           6,
           7,
           8,
           9,
           10,
           11,
           6,
           7,
           8,
           9,
           10,
           11,
           6,
           7,
           8,
           9,
           10,
           11,
           6,
           7,
           8,
           9,
           10,
           11,
           6,
           7,
           8,
           9,
           10,
           11,
           12,
           13,
           12,
           13,
           12,
           13,
           12,
           13,
           12,
           13,
           12,
           13,
           14,
           15,
           16,
           17,
           18,
           19,
           20,
           21,
           22,
           14,
           15,
           16,
           17,
           18,
           19,
           20,
           21,
           22,
           23,
           23,
           23,
           24,
           24,
           25,
           25,
           26,
           26
          ],
          "value": [
           525000,
           1038000,
           2551000,
           2344000,
           1386000,
           442000,
           895000,
           1853000,
           2541000,
           2108000,
           1411000,
           524000,
           820000,
           1654000,
           3373000,
           3353000,
           2090000,
           681000,
           1492000,
           2436000,
           2121000,
           1160000,
           651000,
           263000,
           685000,
           627000,
           384000,
           168000,
           133000,
           44000,
           4398000,
           4855000,
           3657000,
           1629000,
           765000,
           447000,
           7394000,
           1421000,
           9645000,
           2818000,
           11342000,
           3285000,
           8388000,
           2374000,
           4455000,
           1981000,
           1614000,
           787000,
           26158829.7212242,
           4896239.833386863,
           1856118.5557873722,
           45435507.00721832,
           1171757257.8667674,
           77533905156.02258,
           3144686602.8494806,
           103456736.40685487,
           116644547.07889965,
           9191634.152971301,
           1702962.4234411076,
           654862.6762889337,
           15922859.597341469,
           407592676.48494315,
           26711723075.942818,
           1079328961.2039769,
           36832769.27234533,
           40708967.52264092,
           2672.6779414485495,
           497.4962537192278,
           190.0623852849111,
           3476.6544129370004,
           89299.92500859182,
           3918864.1295501445,
           158623.47613173223,
           2661.536252802433,
           2968.478676969955
          ]
         },
         "node": {
          "color": [
           "rgba(231, 76, 60, 0.85)",
           "rgba(241, 196, 15, 0.85)",
           "rgba(230, 126, 34, 0.85)",
           "rgba(52, 152, 219, 0.85)",
           "rgba(39, 174, 96, 0.85)",
           "rgba(142, 202, 100, 0.85)",
           "rgba(108, 92, 231, 0.85)",
           "rgba(162, 155, 254, 0.85)",
           "rgba(116, 185, 255, 0.85)",
           "rgba(30, 144, 255, 0.85)",
           "rgba(25, 118, 210, 0.85)",
           "rgba(21, 101, 192, 0.85)",
           "rgba(240, 98, 146, 0.85)",
           "rgba(91, 192, 222, 0.85)",
           "rgba(229, 57, 53, 0.85)",
           "rgba(244, 81, 30, 0.85)",
           "rgba(230, 74, 25, 0.75)",
           "rgba(56, 142, 60, 0.85)",
           "rgba(104, 159, 56, 0.85)",
           "rgba(3, 169, 244, 0.85)",
           "rgba(21, 101, 192, 0.85)",
           "rgba(156, 39, 176, 0.85)",
           "rgba(123, 31, 162, 0.85)",
           "rgba(229, 57, 53, 0.9)",
           "rgba(56, 142, 60, 0.9)",
           "rgba(3, 169, 244, 0.9)",
           "rgba(156, 39, 176, 0.9)"
          ],
          "hovertemplate": "<b>%{label}</b><extra></extra>",
          "label": [
           "High Meat (>100g/day)",
           "Low Meat (<50g/day)",
           "Medium Meat (50-99g/day)",
           "Pescatarian",
           "Vegan",
           "Vegetarian",
           "20-29",
           "30-39",
           "40-49",
           "50-59",
           "60-69",
           "70-79",
           "Female",
           "Male",
           "Greenhouse Gas Emissions",
           "Methane (CH4) Emissions",
           "Nitrous Oxide (N2O) Emissions",
           "Land Use",
           "Biodiversity Loss",
           "Water Scarcity",
           "Water Usage",
           "Eutrophication",
           "Acidification",
           "Climate Impact",
           "Land & Biodiversity Impact",
           "Water Resources Impact",
           "Chemical Pollution Impact"
          ],
          "line": {
           "color": "rgba(50, 50, 50, 0.3)",
           "width": 0.3
          },
          "pad": 20,
          "thickness": 25
         },
         "type": "sankey"
        }
       ],
       "layout": {
        "annotations": [
         {
          "font": {
           "color": "rgba(150, 150, 150, 0.6)",
           "family": "Arial, sans-serif",
           "size": 14
          },
          "showarrow": false,
          "text": "Dietary Impact Analysis",
          "x": 0.5,
          "xref": "paper",
          "y": 1.05,
          "yref": "paper"
         }
        ],
        "font": {
         "color": "#424242",
         "family": "Arial, sans-serif",
         "size": 14
        },
        "height": 900,
        "margin": {
         "b": 50,
         "l": 50,
         "r": 50,
         "t": 100
        },
        "paper_bgcolor": "rgba(250, 250, 250, 1)",
        "plot_bgcolor": "rgba(250, 250, 250, 1)",
        "template": {
         "data": {
          "bar": [
           {
            "error_x": {
             "color": "#2a3f5f"
            },
            "error_y": {
             "color": "#2a3f5f"
            },
            "marker": {
             "line": {
              "color": "#E5ECF6",
              "width": 0.5
             },
             "pattern": {
              "fillmode": "overlay",
              "size": 10,
              "solidity": 0.2
             }
            },
            "type": "bar"
           }
          ],
          "barpolar": [
           {
            "marker": {
             "line": {
              "color": "#E5ECF6",
              "width": 0.5
             },
             "pattern": {
              "fillmode": "overlay",
              "size": 10,
              "solidity": 0.2
             }
            },
            "type": "barpolar"
           }
          ],
          "carpet": [
           {
            "aaxis": {
             "endlinecolor": "#2a3f5f",
             "gridcolor": "white",
             "linecolor": "white",
             "minorgridcolor": "white",
             "startlinecolor": "#2a3f5f"
            },
            "baxis": {
             "endlinecolor": "#2a3f5f",
             "gridcolor": "white",
             "linecolor": "white",
             "minorgridcolor": "white",
             "startlinecolor": "#2a3f5f"
            },
            "type": "carpet"
           }
          ],
          "choropleth": [
           {
            "colorbar": {
             "outlinewidth": 0,
             "ticks": ""
            },
            "type": "choropleth"
           }
          ],
          "contour": [
           {
            "colorbar": {
             "outlinewidth": 0,
             "ticks": ""
            },
            "colorscale": [
             [
              0,
              "#0d0887"
             ],
             [
              0.1111111111111111,
              "#46039f"
             ],
             [
              0.2222222222222222,
              "#7201a8"
             ],
             [
              0.3333333333333333,
              "#9c179e"
             ],
             [
              0.4444444444444444,
              "#bd3786"
             ],
             [
              0.5555555555555556,
              "#d8576b"
             ],
             [
              0.6666666666666666,
              "#ed7953"
             ],
             [
              0.7777777777777778,
              "#fb9f3a"
             ],
             [
              0.8888888888888888,
              "#fdca26"
             ],
             [
              1,
              "#f0f921"
             ]
            ],
            "type": "contour"
           }
          ],
          "contourcarpet": [
           {
            "colorbar": {
             "outlinewidth": 0,
             "ticks": ""
            },
            "type": "contourcarpet"
           }
          ],
          "heatmap": [
           {
            "colorbar": {
             "outlinewidth": 0,
             "ticks": ""
            },
            "colorscale": [
             [
              0,
              "#0d0887"
             ],
             [
              0.1111111111111111,
              "#46039f"
             ],
             [
              0.2222222222222222,
              "#7201a8"
             ],
             [
              0.3333333333333333,
              "#9c179e"
             ],
             [
              0.4444444444444444,
              "#bd3786"
             ],
             [
              0.5555555555555556,
              "#d8576b"
             ],
             [
              0.6666666666666666,
              "#ed7953"
             ],
             [
              0.7777777777777778,
              "#fb9f3a"
             ],
             [
              0.8888888888888888,
              "#fdca26"
             ],
             [
              1,
              "#f0f921"
             ]
            ],
            "type": "heatmap"
           }
          ],
          "heatmapgl": [
           {
            "colorbar": {
             "outlinewidth": 0,
             "ticks": ""
            },
            "colorscale": [
             [
              0,
              "#0d0887"
             ],
             [
              0.1111111111111111,
              "#46039f"
             ],
             [
              0.2222222222222222,
              "#7201a8"
             ],
             [
              0.3333333333333333,
              "#9c179e"
             ],
             [
              0.4444444444444444,
              "#bd3786"
             ],
             [
              0.5555555555555556,
              "#d8576b"
             ],
             [
              0.6666666666666666,
              "#ed7953"
             ],
             [
              0.7777777777777778,
              "#fb9f3a"
             ],
             [
              0.8888888888888888,
              "#fdca26"
             ],
             [
              1,
              "#f0f921"
             ]
            ],
            "type": "heatmapgl"
           }
          ],
          "histogram": [
           {
            "marker": {
             "pattern": {
              "fillmode": "overlay",
              "size": 10,
              "solidity": 0.2
             }
            },
            "type": "histogram"
           }
          ],
          "histogram2d": [
           {
            "colorbar": {
             "outlinewidth": 0,
             "ticks": ""
            },
            "colorscale": [
             [
              0,
              "#0d0887"
             ],
             [
              0.1111111111111111,
              "#46039f"
             ],
             [
              0.2222222222222222,
              "#7201a8"
             ],
             [
              0.3333333333333333,
              "#9c179e"
             ],
             [
              0.4444444444444444,
              "#bd3786"
             ],
             [
              0.5555555555555556,
              "#d8576b"
             ],
             [
              0.6666666666666666,
              "#ed7953"
             ],
             [
              0.7777777777777778,
              "#fb9f3a"
             ],
             [
              0.8888888888888888,
              "#fdca26"
             ],
             [
              1,
              "#f0f921"
             ]
            ],
            "type": "histogram2d"
           }
          ],
          "histogram2dcontour": [
           {
            "colorbar": {
             "outlinewidth": 0,
             "ticks": ""
            },
            "colorscale": [
             [
              0,
              "#0d0887"
             ],
             [
              0.1111111111111111,
              "#46039f"
             ],
             [
              0.2222222222222222,
              "#7201a8"
             ],
             [
              0.3333333333333333,
              "#9c179e"
             ],
             [
              0.4444444444444444,
              "#bd3786"
             ],
             [
              0.5555555555555556,
              "#d8576b"
             ],
             [
              0.6666666666666666,
              "#ed7953"
             ],
             [
              0.7777777777777778,
              "#fb9f3a"
             ],
             [
              0.8888888888888888,
              "#fdca26"
             ],
             [
              1,
              "#f0f921"
             ]
            ],
            "type": "histogram2dcontour"
           }
          ],
          "mesh3d": [
           {
            "colorbar": {
             "outlinewidth": 0,
             "ticks": ""
            },
            "type": "mesh3d"
           }
          ],
          "parcoords": [
           {
            "line": {
             "colorbar": {
              "outlinewidth": 0,
              "ticks": ""
             }
            },
            "type": "parcoords"
           }
          ],
          "pie": [
           {
            "automargin": true,
            "type": "pie"
           }
          ],
          "scatter": [
           {
            "fillpattern": {
             "fillmode": "overlay",
             "size": 10,
             "solidity": 0.2
            },
            "type": "scatter"
           }
          ],
          "scatter3d": [
           {
            "line": {
             "colorbar": {
              "outlinewidth": 0,
              "ticks": ""
             }
            },
            "marker": {
             "colorbar": {
              "outlinewidth": 0,
              "ticks": ""
             }
            },
            "type": "scatter3d"
           }
          ],
          "scattercarpet": [
           {
            "marker": {
             "colorbar": {
              "outlinewidth": 0,
              "ticks": ""
             }
            },
            "type": "scattercarpet"
           }
          ],
          "scattergeo": [
           {
            "marker": {
             "colorbar": {
              "outlinewidth": 0,
              "ticks": ""
             }
            },
            "type": "scattergeo"
           }
          ],
          "scattergl": [
           {
            "marker": {
             "colorbar": {
              "outlinewidth": 0,
              "ticks": ""
             }
            },
            "type": "scattergl"
           }
          ],
          "scattermapbox": [
           {
            "marker": {
             "colorbar": {
              "outlinewidth": 0,
              "ticks": ""
             }
            },
            "type": "scattermapbox"
           }
          ],
          "scatterpolar": [
           {
            "marker": {
             "colorbar": {
              "outlinewidth": 0,
              "ticks": ""
             }
            },
            "type": "scatterpolar"
           }
          ],
          "scatterpolargl": [
           {
            "marker": {
             "colorbar": {
              "outlinewidth": 0,
              "ticks": ""
             }
            },
            "type": "scatterpolargl"
           }
          ],
          "scatterternary": [
           {
            "marker": {
             "colorbar": {
              "outlinewidth": 0,
              "ticks": ""
             }
            },
            "type": "scatterternary"
           }
          ],
          "surface": [
           {
            "colorbar": {
             "outlinewidth": 0,
             "ticks": ""
            },
            "colorscale": [
             [
              0,
              "#0d0887"
             ],
             [
              0.1111111111111111,
              "#46039f"
             ],
             [
              0.2222222222222222,
              "#7201a8"
             ],
             [
              0.3333333333333333,
              "#9c179e"
             ],
             [
              0.4444444444444444,
              "#bd3786"
             ],
             [
              0.5555555555555556,
              "#d8576b"
             ],
             [
              0.6666666666666666,
              "#ed7953"
             ],
             [
              0.7777777777777778,
              "#fb9f3a"
             ],
             [
              0.8888888888888888,
              "#fdca26"
             ],
             [
              1,
              "#f0f921"
             ]
            ],
            "type": "surface"
           }
          ],
          "table": [
           {
            "cells": {
             "fill": {
              "color": "#EBF0F8"
             },
             "line": {
              "color": "white"
             }
            },
            "header": {
             "fill": {
              "color": "#C8D4E3"
             },
             "line": {
              "color": "white"
             }
            },
            "type": "table"
           }
          ]
         },
         "layout": {
          "annotationdefaults": {
           "arrowcolor": "#2a3f5f",
           "arrowhead": 0,
           "arrowwidth": 1
          },
          "autotypenumbers": "strict",
          "coloraxis": {
           "colorbar": {
            "outlinewidth": 0,
            "ticks": ""
           }
          },
          "colorscale": {
           "diverging": [
            [
             0,
             "#8e0152"
            ],
            [
             0.1,
             "#c51b7d"
            ],
            [
             0.2,
             "#de77ae"
            ],
            [
             0.3,
             "#f1b6da"
            ],
            [
             0.4,
             "#fde0ef"
            ],
            [
             0.5,
             "#f7f7f7"
            ],
            [
             0.6,
             "#e6f5d0"
            ],
            [
             0.7,
             "#b8e186"
            ],
            [
             0.8,
             "#7fbc41"
            ],
            [
             0.9,
             "#4d9221"
            ],
            [
             1,
             "#276419"
            ]
           ],
           "sequential": [
            [
             0,
             "#0d0887"
            ],
            [
             0.1111111111111111,
             "#46039f"
            ],
            [
             0.2222222222222222,
             "#7201a8"
            ],
            [
             0.3333333333333333,
             "#9c179e"
            ],
            [
             0.4444444444444444,
             "#bd3786"
            ],
            [
             0.5555555555555556,
             "#d8576b"
            ],
            [
             0.6666666666666666,
             "#ed7953"
            ],
            [
             0.7777777777777778,
             "#fb9f3a"
            ],
            [
             0.8888888888888888,
             "#fdca26"
            ],
            [
             1,
             "#f0f921"
            ]
           ],
           "sequentialminus": [
            [
             0,
             "#0d0887"
            ],
            [
             0.1111111111111111,
             "#46039f"
            ],
            [
             0.2222222222222222,
             "#7201a8"
            ],
            [
             0.3333333333333333,
             "#9c179e"
            ],
            [
             0.4444444444444444,
             "#bd3786"
            ],
            [
             0.5555555555555556,
             "#d8576b"
            ],
            [
             0.6666666666666666,
             "#ed7953"
            ],
            [
             0.7777777777777778,
             "#fb9f3a"
            ],
            [
             0.8888888888888888,
             "#fdca26"
            ],
            [
             1,
             "#f0f921"
            ]
           ]
          },
          "colorway": [
           "#636efa",
           "#EF553B",
           "#00cc96",
           "#ab63fa",
           "#FFA15A",
           "#19d3f3",
           "#FF6692",
           "#B6E880",
           "#FF97FF",
           "#FECB52"
          ],
          "font": {
           "color": "#2a3f5f"
          },
          "geo": {
           "bgcolor": "white",
           "lakecolor": "white",
           "landcolor": "#E5ECF6",
           "showlakes": true,
           "showland": true,
           "subunitcolor": "white"
          },
          "hoverlabel": {
           "align": "left"
          },
          "hovermode": "closest",
          "mapbox": {
           "style": "light"
          },
          "paper_bgcolor": "white",
          "plot_bgcolor": "#E5ECF6",
          "polar": {
           "angularaxis": {
            "gridcolor": "white",
            "linecolor": "white",
            "ticks": ""
           },
           "bgcolor": "#E5ECF6",
           "radialaxis": {
            "gridcolor": "white",
            "linecolor": "white",
            "ticks": ""
           }
          },
          "scene": {
           "xaxis": {
            "backgroundcolor": "#E5ECF6",
            "gridcolor": "white",
            "gridwidth": 2,
            "linecolor": "white",
            "showbackground": true,
            "ticks": "",
            "zerolinecolor": "white"
           },
           "yaxis": {
            "backgroundcolor": "#E5ECF6",
            "gridcolor": "white",
            "gridwidth": 2,
            "linecolor": "white",
            "showbackground": true,
            "ticks": "",
            "zerolinecolor": "white"
           },
           "zaxis": {
            "backgroundcolor": "#E5ECF6",
            "gridcolor": "white",
            "gridwidth": 2,
            "linecolor": "white",
            "showbackground": true,
            "ticks": "",
            "zerolinecolor": "white"
           }
          },
          "shapedefaults": {
           "line": {
            "color": "#2a3f5f"
           }
          },
          "ternary": {
           "aaxis": {
            "gridcolor": "white",
            "linecolor": "white",
            "ticks": ""
           },
           "baxis": {
            "gridcolor": "white",
            "linecolor": "white",
            "ticks": ""
           },
           "bgcolor": "#E5ECF6",
           "caxis": {
            "gridcolor": "white",
            "linecolor": "white",
            "ticks": ""
           }
          },
          "title": {
           "x": 0.05
          },
          "xaxis": {
           "automargin": true,
           "gridcolor": "white",
           "linecolor": "white",
           "ticks": "",
           "title": {
            "standoff": 15
           },
           "zerolinecolor": "white",
           "zerolinewidth": 2
          },
          "yaxis": {
           "automargin": true,
           "gridcolor": "white",
           "linecolor": "white",
           "ticks": "",
           "title": {
            "standoff": 15
           },
           "zerolinecolor": "white",
           "zerolinewidth": 2
          }
         }
        },
        "title": {
         "font": {
          "color": "#424242",
          "family": "Arial, sans-serif",
          "size": 24
         },
         "text": "Comprehensive Diet-Demographics-Environmental Impact Flow",
         "y": 0.98
        },
        "width": 1600
       }
      }
     },
     "metadata": {},
     "output_type": "display_data"
    },
    {
     "name": "stdout",
     "output_type": "stream",
     "text": [
      "Enhanced Sankey diagram saved to HTML file\n",
      "\n",
      "Setting up interactive dashboard...\n",
      "Dashboard ready! Run app.run_server(debug=True) to start the dashboard\n"
     ]
    },
    {
     "data": {
      "text/html": [
       "\n",
       "        <iframe\n",
       "            width=\"100%\"\n",
       "            height=\"650\"\n",
       "            src=\"http://127.0.0.1:8050/\"\n",
       "            frameborder=\"0\"\n",
       "            allowfullscreen\n",
       "            \n",
       "        ></iframe>\n",
       "        "
      ],
      "text/plain": [
       "<IPython.lib.display.IFrame at 0x17eb7f020>"
      ]
     },
     "metadata": {},
     "output_type": "display_data"
    },
    {
     "name": "stdout",
     "output_type": "stream",
     "text": [
      "Creating comprehensive Sankey diagram with enhanced color scheme...\n",
      "Total nodes: 27\n",
      "Processing Diet -> Age links...\n",
      "Processing Age -> Gender links...\n",
      "Processing Gender -> Individual Metrics links...\n",
      "Processing Individual Metrics -> Impact Categories links...\n",
      "Enhanced Sankey diagram created in 0.99 seconds\n",
      "Creating comprehensive Sankey diagram with enhanced color scheme...\n",
      "Total nodes: 27\n",
      "Processing Diet -> Age links...\n",
      "Processing Age -> Gender links...\n",
      "Processing Gender -> Individual Metrics links...\n",
      "Processing Individual Metrics -> Impact Categories links...\n",
      "Enhanced Sankey diagram created in 0.46 seconds\n",
      "Creating comprehensive Sankey diagram with enhanced color scheme...\n",
      "Total nodes: 27\n",
      "Processing Diet -> Age links...\n",
      "Processing Age -> Gender links...\n",
      "Processing Gender -> Individual Metrics links...\n",
      "Processing Individual Metrics -> Impact Categories links...\n",
      "Enhanced Sankey diagram created in 0.08 seconds\n"
     ]
    }
   ],
   "source": [
    "import pandas as pd\n",
    "import numpy as np\n",
    "import plotly.graph_objects as go\n",
    "from plotly.subplots import make_subplots\n",
    "import dash\n",
    "from dash import dcc, html\n",
    "from dash.dependencies import Input, Output\n",
    "import time\n",
    "\n",
    "# ======================\n",
    "# DATA LOADING & PREP\n",
    "# ======================\n",
    "\n",
    "print(\"Loading dataset...\")\n",
    "df = pd.read_csv(\"FoodDataset.csv\")\n",
    "print(\"Successfully loaded Oxford dataset\")\n",
    "\n",
    "# Standardize column names\n",
    "column_mapping = {\n",
    "    'ghg': 'mean_ghgs',\n",
    "    'ch4': 'mean_ghgs_ch4',\n",
    "    'n2o': 'mean_ghgs_n2o',\n",
    "    'land': 'mean_land',\n",
    "    'bio': 'mean_bio',\n",
    "    'watscar': 'mean_watscar',\n",
    "    'watuse': 'mean_watuse',\n",
    "    'eut': 'mean_eut',\n",
    "    'acid': 'mean_acid',\n",
    "    'n': 'n_participants',\n",
    "    'sex': 'sex',\n",
    "    'age': 'age_group',\n",
    "    'diet_group': 'diet_group'\n",
    "}\n",
    "column_mapping = {k:v for k,v in column_mapping.items() if k in df.columns}\n",
    "df = df.rename(columns=column_mapping)\n",
    "\n",
    "# Clean and standardize values\n",
    "df['diet_group'] = df['diet_group'].str.lower().str.strip()\n",
    "df['sex'] = df['sex'].str.lower().str.strip()\n",
    "\n",
    "# ======================\n",
    "# DATA VALIDATION\n",
    "# ======================\n",
    "\n",
    "print(\"\\n=== DATA VALIDATION ===\")\n",
    "print(\"Columns in dataset:\", df.columns.tolist())\n",
    "print(\"\\nUnique diet groups:\", df['diet_group'].unique())\n",
    "print(\"Unique sex values:\", df['sex'].unique())\n",
    "print(\"Unique age groups:\", df['age_group'].unique())\n",
    "\n",
    "# ======================\n",
    "# DATA PROCESSING\n",
    "# ======================\n",
    "\n",
    "# Define impact categories with better organization\n",
    "impact_categories = {\n",
    "    'Climate_Impact': ['mean_ghgs', 'mean_ghgs_ch4', 'mean_ghgs_n2o'],\n",
    "    'Land_Impact': ['mean_land', 'mean_bio'],\n",
    "    'Water_Impact': ['mean_watscar', 'mean_watuse'],\n",
    "    'Chemical_Impact': ['mean_eut', 'mean_acid']\n",
    "}\n",
    "\n",
    "# Define metric to category mapping\n",
    "metric_to_category = {\n",
    "    'mean_ghgs': 'Climate_Impact',\n",
    "    'mean_ghgs_ch4': 'Climate_Impact',\n",
    "    'mean_ghgs_n2o': 'Climate_Impact',\n",
    "    'mean_land': 'Land_Impact',\n",
    "    'mean_bio': 'Land_Impact',\n",
    "    'mean_watscar': 'Water_Impact',\n",
    "    'mean_watuse': 'Water_Impact',\n",
    "    'mean_eut': 'Chemical_Impact',\n",
    "    'mean_acid': 'Chemical_Impact'\n",
    "}\n",
    "\n",
    "# Friendly names for display\n",
    "category_friendly_names = {\n",
    "    'Climate_Impact': 'Climate Impact',\n",
    "    'Land_Impact': 'Land & Biodiversity Impact',\n",
    "    'Water_Impact': 'Water Resources Impact',\n",
    "    'Chemical_Impact': 'Chemical Pollution Impact'\n",
    "}\n",
    "\n",
    "# Enhanced diet categorization\n",
    "def categorize_diet(diet):\n",
    "    diet = str(diet).lower().strip()\n",
    "    if 'vegan' in diet:\n",
    "        return 'Vegan'\n",
    "    elif 'veggie' in diet or 'vegetarian' in diet:\n",
    "        return 'Vegetarian'\n",
    "    elif 'fish' in diet or 'pescatarian' in diet:\n",
    "        return 'Pescatarian'\n",
    "    elif 'meat100' in diet or '>100' in diet:\n",
    "        return 'High Meat (>100g/day)'\n",
    "    elif 'meat50-99' in diet or ('50' in diet and '99' in diet):\n",
    "        return 'Medium Meat (50-99g/day)'\n",
    "    elif 'meat50' in diet or '<50' in diet:\n",
    "        return 'Low Meat (<50g/day)'\n",
    "    elif 'meat' in diet:  # Catch-all for generic meat entries\n",
    "        return 'Medium Meat (50-99g/day)'  # Default assumption\n",
    "    else:\n",
    "        print(f\"Unknown diet group: {diet}\")\n",
    "        return 'Other'\n",
    "\n",
    "print(\"Categorizing diets...\")\n",
    "df['Diet_Category'] = df['diet_group'].apply(categorize_diet)\n",
    "\n",
    "# Convert sex values to Male/Female\n",
    "df['Sex'] = df['sex'].str.lower().str.strip().map({'male': 'Male', 'female': 'Female'})\n",
    "df['Age_Category'] = df['age_group']\n",
    "\n",
    "# Calculate impact scores\n",
    "print(\"Calculating impact scores...\")\n",
    "for category, metrics in impact_categories.items():\n",
    "    available_metrics = [m for m in metrics if m in df.columns]\n",
    "    if available_metrics:\n",
    "        # First normalize each metric\n",
    "        for metric in available_metrics:\n",
    "            if df[metric].max() > df[metric].min():  # Avoid div by zero\n",
    "                df[f'{metric}_norm'] = (df[metric] - df[metric].min()) / (df[metric].max() - df[metric].min())\n",
    "            else:\n",
    "                df[f'{metric}_norm'] = 0  # Default if all values are the same\n",
    "        # Then calculate category score\n",
    "        df[category] = df[[f'{m}_norm' for m in available_metrics]].mean(axis=1)\n",
    "\n",
    "# ======================\n",
    "# IMPROVED COMPREHENSIVE SANKEY DIAGRAM WITH ENHANCED COLOR SCHEME\n",
    "# ======================\n",
    "\n",
    "def create_comprehensive_sankey(df, weights=None):\n",
    "    \"\"\"\n",
    "    Creates a comprehensive Sankey diagram showing:\n",
    "    Diet → Age → Gender → Individual Metrics → Impact Categories\n",
    "\n",
    "    Args:\n",
    "        df: DataFrame with the data\n",
    "        weights: Dict with category weights (optional)\n",
    "    \"\"\"\n",
    "    print(\"Creating comprehensive Sankey diagram with enhanced color scheme...\")\n",
    "    start_time = time.time()\n",
    "\n",
    "    if weights is None:\n",
    "        weights = {\n",
    "            'Climate_Impact': 0.4,\n",
    "            'Land_Impact': 0.3,\n",
    "            'Water_Impact': 0.2,\n",
    "            'Chemical_Impact': 0.1\n",
    "        }\n",
    "\n",
    "    # 1. Prepare nodes\n",
    "    # Diet categories\n",
    "    diet_nodes = sorted(df['Diet_Category'].unique())\n",
    "\n",
    "    # Age groups\n",
    "    age_nodes = sorted(df['Age_Category'].unique())\n",
    "\n",
    "    # Gender groups\n",
    "    gender_nodes = sorted(df['Sex'].unique())\n",
    "\n",
    "    # Create more readable metric labels\n",
    "    metric_labels = {\n",
    "        'mean_ghgs': 'Greenhouse Gas Emissions',\n",
    "        'mean_ghgs_ch4': 'Methane (CH4) Emissions',\n",
    "        'mean_ghgs_n2o': 'Nitrous Oxide (N2O) Emissions',\n",
    "        'mean_land': 'Land Use',\n",
    "        'mean_bio': 'Biodiversity Loss',\n",
    "        'mean_watscar': 'Water Scarcity',\n",
    "        'mean_watuse': 'Water Usage',\n",
    "        'mean_eut': 'Eutrophication',\n",
    "        'mean_acid': 'Acidification'\n",
    "    }\n",
    "\n",
    "    # Impact categories\n",
    "    impact_categories_available = {k: v for k, v in impact_categories.items()\n",
    "                                  if any(metric in df.columns for metric in v)}\n",
    "    impact_category_nodes = list(impact_categories_available.keys())\n",
    "\n",
    "    # Individual metrics\n",
    "    all_metrics = []\n",
    "    for category, metrics in impact_categories_available.items():\n",
    "        all_metrics.extend([m for m in metrics if m in df.columns])\n",
    "\n",
    "    # 2. Create nodes list in order of flow:\n",
    "    # Diet → Age → Gender → Individual Metrics → Impact Categories\n",
    "    all_nodes = (\n",
    "        diet_nodes +\n",
    "        age_nodes +\n",
    "        gender_nodes +\n",
    "        [metric_labels[m] for m in all_metrics] +\n",
    "        [category_friendly_names[cat] for cat in impact_category_nodes]\n",
    "    )\n",
    "\n",
    "    print(f\"Total nodes: {len(all_nodes)}\")\n",
    "\n",
    "    # Create node indices dictionary\n",
    "    node_indices = {node: i for i, node in enumerate(all_nodes)}\n",
    "\n",
    "    # 3. Define IMPROVED color mappings with better contrast and cohesive palette\n",
    "    diet_colors = {\n",
    "        'Vegan': 'rgba(39, 174, 96, 0.85)',          # Green\n",
    "        'Vegetarian': 'rgba(142, 202, 100, 0.85)',    # Light green\n",
    "        'Pescatarian': 'rgba(52, 152, 219, 0.85)',    # Blue\n",
    "        'Low Meat (<50g/day)': 'rgba(241, 196, 15, 0.85)',  # Yellow\n",
    "        'Medium Meat (50-99g/day)': 'rgba(230, 126, 34, 0.85)', # Orange\n",
    "        'High Meat (>100g/day)': 'rgba(231, 76, 60, 0.85)',  # Red\n",
    "        'Other': 'rgba(189, 195, 199, 0.85)'          # Gray\n",
    "    }\n",
    "\n",
    "    # Color gradient for age groups (from younger to older)\n",
    "    age_colors = {\n",
    "        '20-29': 'rgba(108, 92, 231, 0.85)',    # Violet\n",
    "        '30-39': 'rgba(162, 155, 254, 0.85)',   # Light violet\n",
    "        '40-49': 'rgba(116, 185, 255, 0.85)',   # Light blue\n",
    "        '50-59': 'rgba(30, 144, 255, 0.85)',    # Dodger blue\n",
    "        '60-69': 'rgba(25, 118, 210, 0.85)',    # Medium blue\n",
    "        '70-79': 'rgba(21, 101, 192, 0.85)'     # Dark blue\n",
    "    }\n",
    "\n",
    "    gender_colors = {\n",
    "        'Male': 'rgba(91, 192, 222, 0.85)',    # Cyan\n",
    "        'Female': 'rgba(240, 98, 146, 0.85)'   # Pink\n",
    "    }\n",
    "\n",
    "    # More distinctive colors for metrics with a cohesive palette\n",
    "    metric_base_colors = {\n",
    "        # Climate metrics - red variants\n",
    "        'mean_ghgs': 'rgba(229, 57, 53, 0.85)',       # Red\n",
    "        'mean_ghgs_ch4': 'rgba(244, 81, 30, 0.85)',   # Orange-red\n",
    "        'mean_ghgs_n2o': 'rgba(230, 74, 25, 0.75)',   # Lighter orange-red\n",
    "\n",
    "        # Land metrics - green variants\n",
    "        'mean_land': 'rgba(56, 142, 60, 0.85)',       # Green\n",
    "        'mean_bio': 'rgba(104, 159, 56, 0.85)',       # Light green\n",
    "\n",
    "        # Water metrics - blue variants\n",
    "        'mean_watscar': 'rgba(3, 169, 244, 0.85)',    # Light blue\n",
    "        'mean_watuse': 'rgba(21, 101, 192, 0.85)',    # Dark blue\n",
    "\n",
    "        # Chemical metrics - purple variants\n",
    "        'mean_eut': 'rgba(156, 39, 176, 0.85)',       # Purple\n",
    "        'mean_acid': 'rgba(123, 31, 162, 0.85)'       # Dark purple\n",
    "    }\n",
    "\n",
    "    # Bold, distinctive colors for impact categories (final nodes)\n",
    "    category_colors = {\n",
    "        'Climate Impact': 'rgba(229, 57, 53, 0.9)',              # Bold red\n",
    "        'Land & Biodiversity Impact': 'rgba(56, 142, 60, 0.9)',  # Bold green\n",
    "        'Water Resources Impact': 'rgba(3, 169, 244, 0.9)',      # Bold blue\n",
    "        'Chemical Pollution Impact': 'rgba(156, 39, 176, 0.9)'   # Bold purple\n",
    "    }\n",
    "\n",
    "    # 4. Assign node colors with improved scheme\n",
    "    node_colors = []\n",
    "    for node in all_nodes:\n",
    "        if node in diet_colors:\n",
    "            node_colors.append(diet_colors[node])\n",
    "        elif node in age_colors:\n",
    "            node_colors.append(age_colors[node])\n",
    "        elif node in gender_colors:\n",
    "            node_colors.append(gender_colors[node])\n",
    "        elif node in category_colors:\n",
    "            node_colors.append(category_colors[node])\n",
    "        else:\n",
    "            # Find the matching metric\n",
    "            for metric, label in metric_labels.items():\n",
    "                if node == label:\n",
    "                    node_colors.append(metric_base_colors.get(metric, 'rgba(150, 150, 150, 0.85)'))\n",
    "                    break\n",
    "            else:\n",
    "                node_colors.append('rgba(150, 150, 150, 0.85)')\n",
    "\n",
    "    # 5. Create links with improved transparency for better flow visibility\n",
    "    links = {\n",
    "        'source': [],\n",
    "        'target': [],\n",
    "        'value': [],\n",
    "        'color': [],\n",
    "        'label': []\n",
    "    }\n",
    "\n",
    "    # Diet -> Age links\n",
    "    print(\"Processing Diet -> Age links...\")\n",
    "    diet_age = df.groupby(['Diet_Category', 'Age_Category'])['n_participants'].sum().reset_index()\n",
    "    for _, row in diet_age.iterrows():\n",
    "        # Skip very small links to reduce complexity\n",
    "        if row['n_participants'] < 5:\n",
    "            continue\n",
    "\n",
    "        links['source'].append(node_indices[row['Diet_Category']])\n",
    "        links['target'].append(node_indices[row['Age_Category']])\n",
    "        links['value'].append(row['n_participants'])\n",
    "        # Reduce opacity for links\n",
    "        color = diet_colors.get(row['Diet_Category'], 'rgba(150, 150, 150, 0.4)')\n",
    "        if 'rgba' in color:\n",
    "            # Extract the RGB values and set a lower opacity\n",
    "            color = color.replace('0.85', '0.65')\n",
    "        links['color'].append(color)\n",
    "        links['label'].append(f\"{row['Diet_Category']} → {row['Age_Category']}: {row['n_participants']} participants\")\n",
    "\n",
    "    # Age -> Gender links\n",
    "    print(\"Processing Age -> Gender links...\")\n",
    "    age_gender = df.groupby(['Age_Category', 'Sex'])['n_participants'].sum().reset_index()\n",
    "    for _, row in age_gender.iterrows():\n",
    "        links['source'].append(node_indices[row['Age_Category']])\n",
    "        links['target'].append(node_indices[row['Sex']])\n",
    "        links['value'].append(row['n_participants'])\n",
    "        color = age_colors.get(row['Age_Category'], 'rgba(150, 150, 150, 0.4)')\n",
    "        if 'rgba' in color:\n",
    "            color = color.replace('0.85', '0.65')\n",
    "        links['color'].append(color)\n",
    "        links['label'].append(f\"{row['Age_Category']} → {row['Sex']}: {row['n_participants']} participants\")\n",
    "\n",
    "    # Gender -> Individual Metrics links\n",
    "    print(\"Processing Gender -> Individual Metrics links...\")\n",
    "    # Calculate metrics values by gender\n",
    "    gender_metrics = {}\n",
    "    for gender in gender_nodes:\n",
    "        gender_data = df[df['Sex'] == gender]\n",
    "        participants = gender_data['n_participants'].sum()\n",
    "\n",
    "        gender_metrics[gender] = {\n",
    "            'participants': participants,\n",
    "            'metrics': {}\n",
    "        }\n",
    "\n",
    "        for metric in all_metrics:\n",
    "            if metric in df.columns:\n",
    "                metric_value = gender_data[metric].mean()\n",
    "                gender_metrics[gender]['metrics'][metric] = metric_value\n",
    "\n",
    "    # Create links from gender to individual metrics\n",
    "    for gender, data in gender_metrics.items():\n",
    "        for metric, value in data['metrics'].items():\n",
    "            metric_node = metric_labels[metric]\n",
    "            # Scale value to make it visible\n",
    "            scaled_value = value * data['participants'] / 10\n",
    "            if scaled_value < 0.1:  # Ensure minimum visibility\n",
    "                scaled_value = 0.1\n",
    "\n",
    "            links['source'].append(node_indices[gender])\n",
    "            links['target'].append(node_indices[metric_node])\n",
    "            links['value'].append(scaled_value)\n",
    "            color = gender_colors.get(gender, 'rgba(150, 150, 150, 0.4)')\n",
    "            if 'rgba' in color:\n",
    "                color = color.replace('0.85', '0.65')\n",
    "            links['color'].append(color)\n",
    "            links['label'].append(f\"{gender} → {metric_node}: {value:.2f} avg. impact\")\n",
    "\n",
    "    # Individual Metrics -> Impact Categories links\n",
    "    print(\"Processing Individual Metrics -> Impact Categories links...\")\n",
    "    for metric in all_metrics:\n",
    "        if metric in metric_to_category:\n",
    "            category = metric_to_category[metric]\n",
    "            category_node = category_friendly_names[category]\n",
    "            metric_node = metric_labels[metric]\n",
    "\n",
    "            # Get average metric value\n",
    "            metric_avg = df[metric].mean()\n",
    "            # Scale by weights\n",
    "            scaled_value = metric_avg * weights[category] * 1000\n",
    "\n",
    "            links['source'].append(node_indices[metric_node])\n",
    "            links['target'].append(node_indices[category_node])\n",
    "            links['value'].append(scaled_value)\n",
    "            color = metric_base_colors.get(metric, 'rgba(150, 150, 150, 0.4)')\n",
    "            if 'rgba' in color:\n",
    "                color = color.replace('0.85', '0.65')\n",
    "            links['color'].append(color)\n",
    "            links['label'].append(f\"{metric_node} → {category_node}: contributes to {category_node}\")\n",
    "\n",
    "    # 6. Create the Sankey diagram with improved visual settings\n",
    "    fig = go.Figure(go.Sankey(\n",
    "        node=dict(\n",
    "            pad=20,                          # Increased padding\n",
    "            thickness=25,                    # Increased thickness for better visibility\n",
    "            line=dict(color=\"rgba(50, 50, 50, 0.3)\", width=0.3),  # Softer line color\n",
    "            label=all_nodes,\n",
    "            color=node_colors,\n",
    "            hovertemplate='<b>%{label}</b><extra></extra>'  # Bold labels in hover\n",
    "        ),\n",
    "        link=dict(\n",
    "            source=links['source'],\n",
    "            target=links['target'],\n",
    "            value=links['value'],\n",
    "            color=links['color'],\n",
    "            hovertemplate='<b>%{label}</b><extra></extra>',  # Bold labels in hover\n",
    "            label=links['label']\n",
    "        )\n",
    "    ))\n",
    "\n",
    "    # 7. Add a proper title and improved layout settings\n",
    "    fig.update_layout(\n",
    "        title=dict(\n",
    "            text=\"Comprehensive Diet-Demographics-Environmental Impact Flow\",\n",
    "            font=dict(size=24, color=\"#424242\", family=\"Arial, sans-serif\"),\n",
    "            y=0.98\n",
    "        ),\n",
    "        font=dict(\n",
    "            family=\"Arial, sans-serif\",\n",
    "            size=14,\n",
    "            color=\"#424242\"\n",
    "        ),\n",
    "        height=900,\n",
    "        width=1600,\n",
    "        margin=dict(l=50, r=50, t=100, b=50),\n",
    "        paper_bgcolor='rgba(250, 250, 250, 1)',  # Light gray background\n",
    "        plot_bgcolor='rgba(250, 250, 250, 1)'    # Light gray background\n",
    "    )\n",
    "\n",
    "    # Add subtle watermark/annotation\n",
    "    fig.add_annotation(\n",
    "        text=\"Dietary Impact Analysis\",\n",
    "        x=0.5,\n",
    "        y=1.05,\n",
    "        xref=\"paper\",\n",
    "        yref=\"paper\",\n",
    "        showarrow=False,\n",
    "        font=dict(\n",
    "            family=\"Arial, sans-serif\",\n",
    "            size=14,\n",
    "            color=\"rgba(150, 150, 150, 0.6)\"\n",
    "        )\n",
    "    )\n",
    "\n",
    "    print(f\"Enhanced Sankey diagram created in {time.time() - start_time:.2f} seconds\")\n",
    "    return fig\n",
    "\n",
    "# ======================\n",
    "# INTERACTIVE DASHBOARD WITH WEIGHT CONTROLS\n",
    "# ======================\n",
    "\n",
    "def create_interactive_dashboard():\n",
    "    \"\"\"\n",
    "    Creates an interactive dashboard with sliders to adjust impact weights\n",
    "    \"\"\"\n",
    "    app = dash.Dash(__name__)\n",
    "\n",
    "    app.layout = html.Div([\n",
    "        html.H1(\"Diet-Demographics-Environmental Impact Dashboard\",\n",
    "                style={\n",
    "                    'textAlign': 'center',\n",
    "                    'fontFamily': 'Arial, sans-serif',\n",
    "                    'color': '#2C3E50',\n",
    "                    'marginBottom': '30px',\n",
    "                    'marginTop': '20px'\n",
    "                }),\n",
    "\n",
    "        html.Div([\n",
    "            html.H3(\"Adjust Impact Category Weights\", style={'color': '#34495E'}),\n",
    "\n",
    "            html.Div([\n",
    "                html.Label(\"Climate Impact Weight:\", style={'fontWeight': 'bold', 'color': '#C0392B'}),\n",
    "                dcc.Slider(\n",
    "                    id='climate-weight',\n",
    "                    min=0.1,\n",
    "                    max=1.0,\n",
    "                    step=0.1,\n",
    "                    value=0.4,\n",
    "                    marks={i/10: str(i/10) for i in range(1, 11)},\n",
    "                    className='custom-slider'\n",
    "                )\n",
    "            ], style={'marginBottom': 20}),\n",
    "\n",
    "            html.Div([\n",
    "                html.Label(\"Land & Biodiversity Impact Weight:\", style={'fontWeight': 'bold', 'color': '#27AE60'}),\n",
    "                dcc.Slider(\n",
    "                    id='land-weight',\n",
    "                    min=0.1,\n",
    "                    max=1.0,\n",
    "                    step=0.1,\n",
    "                    value=0.3,\n",
    "                    marks={i/10: str(i/10) for i in range(1, 11)},\n",
    "                    className='custom-slider'\n",
    "                )\n",
    "            ], style={'marginBottom': 20}),\n",
    "\n",
    "            html.Div([\n",
    "                html.Label(\"Water Resources Impact Weight:\", style={'fontWeight': 'bold', 'color': '#3498DB'}),\n",
    "                dcc.Slider(\n",
    "                    id='water-weight',\n",
    "                    min=0.1,\n",
    "                    max=1.0,\n",
    "                    step=0.1,\n",
    "                    value=0.2,\n",
    "                    marks={i/10: str(i/10) for i in range(1, 11)},\n",
    "                    className='custom-slider'\n",
    "                )\n",
    "            ], style={'marginBottom': 20}),\n",
    "\n",
    "            html.Div([\n",
    "                html.Label(\"Chemical Pollution Impact Weight:\", style={'fontWeight': 'bold', 'color': '#9B59B6'}),\n",
    "                dcc.Slider(\n",
    "                    id='chemical-weight',\n",
    "                    min=0.1,\n",
    "                    max=1.0,\n",
    "                    step=0.1,\n",
    "                    value=0.1,\n",
    "                    marks={i/10: str(i/10) for i in range(1, 11)},\n",
    "                    className='custom-slider'\n",
    "                )\n",
    "            ], style={'marginBottom': 20}),\n",
    "\n",
    "            html.Button('Reset Weights',\n",
    "                      id='reset-button',\n",
    "                      n_clicks=0,\n",
    "                      style={\n",
    "                          'backgroundColor': '#34495E',\n",
    "                          'color': 'white',\n",
    "                          'border': 'none',\n",
    "                          'padding': '10px 20px',\n",
    "                          'borderRadius': '5px',\n",
    "                          'cursor': 'pointer',\n",
    "                          'fontSize': '16px'\n",
    "                      }),\n",
    "\n",
    "        ], style={\n",
    "            'padding': '25px',\n",
    "            'backgroundColor': '#f8f9fa',\n",
    "            'borderRadius': '10px',\n",
    "            'boxShadow': '0 4px 8px rgba(0,0,0,0.1)',\n",
    "            'marginBottom': '30px'\n",
    "        }),\n",
    "\n",
    "        # The main Sankey diagram\n",
    "        dcc.Graph(id='sankey-graph'),\n",
    "\n",
    "        # Helper text\n",
    "        html.Div([\n",
    "            html.H4(\"How to Read This Visualization\", style={'color': '#34495E'}),\n",
    "            html.P([\n",
    "                \"This Sankey diagram shows the flow from diet types through demographics to environmental impacts. \",\n",
    "                \"The width of each connection represents its relative magnitude. \",\n",
    "                \"The diagram follows this path: Diet Categories → Age Groups → Gender → Individual Metrics → Impact Categories.\"\n",
    "            ], style={'lineHeight': '1.6'}),\n",
    "            html.P([\n",
    "                \"Use the sliders above to adjust the weights of different environmental impact categories \",\n",
    "                \"and see how they affect the environmental impact assessment.\"\n",
    "            ], style={'lineHeight': '1.6'})\n",
    "        ], style={\n",
    "            'padding': '25px',\n",
    "            'backgroundColor': '#f8f9fa',\n",
    "            'borderRadius': '10px',\n",
    "            'boxShadow': '0 4px 8px rgba(0,0,0,0.1)',\n",
    "            'marginTop': '30px'\n",
    "        }),\n",
    "\n",
    "    ], style={\n",
    "        'maxWidth': '1800px',\n",
    "        'margin': '0 auto',\n",
    "        'padding': '20px',\n",
    "        'fontFamily': 'Arial, sans-serif'\n",
    "    })\n",
    "\n",
    "    @app.callback(\n",
    "        Output('sankey-graph', 'figure'),\n",
    "        [Input('climate-weight', 'value'),\n",
    "         Input('land-weight', 'value'),\n",
    "         Input('water-weight', 'value'),\n",
    "         Input('chemical-weight', 'value'),\n",
    "         Input('reset-button', 'n_clicks')]\n",
    "    )\n",
    "    def update_graph(climate_weight, land_weight, water_weight, chemical_weight, n_clicks):\n",
    "        # Define weights\n",
    "        weights = {\n",
    "            'Climate_Impact': climate_weight,\n",
    "            'Land_Impact': land_weight,\n",
    "            'Water_Impact': water_weight,\n",
    "            'Chemical_Impact': chemical_weight\n",
    "        }\n",
    "\n",
    "        # Create the comprehensive Sankey diagram with current weights\n",
    "        return create_comprehensive_sankey(df, weights)\n",
    "\n",
    "    return app\n",
    "\n",
    "# ======================\n",
    "# EXECUTION\n",
    "# ======================\n",
    "\n",
    "print(\"\\n=== GENERATING COMPREHENSIVE VISUALIZATION ===\")\n",
    "try:\n",
    "    # Create a static version of the comprehensive Sankey diagram\n",
    "    print(\"Creating enhanced Sankey diagram with improved color scheme...\")\n",
    "    comp_sankey = create_comprehensive_sankey(df)\n",
    "    comp_sankey.show()\n",
    "    comp_sankey.write_html(\"enhanced_diet_demographic_impact_sankey.html\")\n",
    "    print(\"Enhanced Sankey diagram saved to HTML file\")\n",
    "\n",
    "    # Create the interactive dashboard with weight controllers\n",
    "    print(\"\\nSetting up interactive dashboard...\")\n",
    "    app = create_interactive_dashboard()\n",
    "    print(\"Dashboard ready! Run app.run_server(debug=True) to start the dashboard\")\n",
    "\n",
    "    # Uncomment to run the dashboard:\n",
    "    app.run(debug=True)\n",
    "\n",
    "except Exception as e:\n",
    "    print(f\"Error in visualization creation: {e}\")\n",
    "    import traceback\n",
    "    traceback.print_exc()"
   ]
  }
 ],
 "metadata": {
  "kernelspec": {
   "display_name": "base",
   "language": "python",
   "name": "python3"
  },
  "language_info": {
   "codemirror_mode": {
    "name": "ipython",
    "version": 3
   },
   "file_extension": ".py",
   "mimetype": "text/x-python",
   "name": "python",
   "nbconvert_exporter": "python",
   "pygments_lexer": "ipython3",
   "version": "3.12.4"
  }
 },
 "nbformat": 4,
 "nbformat_minor": 5
}
